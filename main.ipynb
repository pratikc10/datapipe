{
 "cells": [
  {
   "cell_type": "code",
   "execution_count": 2,
   "id": "6dfce1ec",
   "metadata": {},
   "outputs": [],
   "source": [
    "import pyodbc\n",
    "import sys"
   ]
  },
  {
   "cell_type": "code",
   "execution_count": 15,
   "id": "30f1aa19",
   "metadata": {},
   "outputs": [],
   "source": [
    "conn_str = (\n",
    "    \"DRIVER={PostgreSQL Unicode};\"\n",
    "    \"DATABASE=pratik;\"\n",
    "    \"UID=postgres;\"\n",
    "    \"PWD=123456;\"\n",
    "    \"SERVER=localhost;\"\n",
    "    \"PORT=5433;\"\n",
    "    )"
   ]
  },
  {
   "cell_type": "code",
   "execution_count": 16,
   "id": "67c74ced",
   "metadata": {},
   "outputs": [
    {
     "name": "stdout",
     "output_type": "stream",
     "text": [
      "<pyodbc.Connection object at 0x000002B85EE72B90>\n"
     ]
    }
   ],
   "source": [
    "conn = pyodbc.connect(conn_str)\n",
    "print(conn)  "
   ]
  },
  {
   "cell_type": "code",
   "execution_count": null,
   "id": "629a80ab",
   "metadata": {},
   "outputs": [],
   "source": []
  }
 ],
 "metadata": {
  "kernelspec": {
   "display_name": "Python 3",
   "language": "python",
   "name": "python3"
  },
  "language_info": {
   "codemirror_mode": {
    "name": "ipython",
    "version": 3
   },
   "file_extension": ".py",
   "mimetype": "text/x-python",
   "name": "python",
   "nbconvert_exporter": "python",
   "pygments_lexer": "ipython3",
   "version": "3.9.1"
  }
 },
 "nbformat": 4,
 "nbformat_minor": 5
}
